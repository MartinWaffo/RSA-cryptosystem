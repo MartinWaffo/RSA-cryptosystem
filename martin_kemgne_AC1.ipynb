{
 "cells": [
  {
   "cell_type": "markdown",
   "id": "26193b87",
   "metadata": {},
   "source": [
    "# EXERCICE1:\n",
    "# 4). Use python or sagemath to find all natural number n solutions for φ(n) = 24 where φ\n"
   ]
  },
  {
   "cell_type": "markdown",
   "id": "1a533c1d",
   "metadata": {},
   "source": [
    "# We can prove that n is bounded  by 25 and 100 "
   ]
  },
  {
   "cell_type": "code",
   "execution_count": 1,
   "id": "d670b60f",
   "metadata": {},
   "outputs": [],
   "source": [
    "import random"
   ]
  },
  {
   "cell_type": "code",
   "execution_count": 2,
   "id": "eafebf25",
   "metadata": {},
   "outputs": [],
   "source": [
    "def ExtendedEuclide2(a,b):\n",
    "    r0 = b\n",
    "    u1=1 \n",
    "    u2=0\n",
    "    v1=0\n",
    "    v2 =1\n",
    "    while r0 != 0:\n",
    "        q = a//b\n",
    "        r = a%b\n",
    "        u = u1-u2*q\n",
    "        v = v1-v2*q\n",
    "        a, b = r0, r\n",
    "        u1, u2 = u2, u\n",
    "        v1, v2 = v2, v\n",
    "        r0 = r\n",
    "    gcd = a\n",
    "    return [gcd, u1, v1]"
   ]
  },
  {
   "cell_type": "code",
   "execution_count": 3,
   "id": "544097e9",
   "metadata": {},
   "outputs": [],
   "source": [
    "def Phi1(n):\n",
    "    c=0\n",
    "    for i in range(1,n):\n",
    "        if ExtendedEuclide2(n,i)[0]==1:\n",
    "            c=c+1\n",
    "    return c "
   ]
  },
  {
   "cell_type": "code",
   "execution_count": 4,
   "id": "aee8e0b9",
   "metadata": {},
   "outputs": [
    {
     "name": "stdout",
     "output_type": "stream",
     "text": [
      "The different solutions of this equation are: \n",
      "35\n",
      "39\n",
      "45\n",
      "52\n",
      "56\n",
      "70\n",
      "72\n",
      "78\n",
      "84\n",
      "90\n"
     ]
    }
   ],
   "source": [
    "print(\"The different solutions of this equation are: \")\n",
    "for i in range(25,100):\n",
    "    if Phi1(i)==24:\n",
    "        print(i)"
   ]
  },
  {
   "cell_type": "markdown",
   "id": "15f3b93d",
   "metadata": {},
   "source": [
    "# EXERCICE 2 :"
   ]
  },
  {
   "cell_type": "markdown",
   "id": "a7872b04",
   "metadata": {},
   "source": [
    "#  Bob intercepts from Alice the following encrypted message:\n",
    "\n",
    "[202117590436267376498494842427218208073673862056020518893923408003228806\n",
    "423537340483967085620408079952794842746108798537181077262235006790323732\n",
    "956014582672924206863871733883201517048611606976243215874494739768603227\n",
    "321525422198060609757232227291305201521455364732121275745103539537069614\n",
    "49174619764961296291397775292]\n",
    "\n",
    "\n",
    "# Bob knows that Alice uses RSA cryptosystem and her public key is (65537, n) where\n",
    "\n",
    " n =2370566482867901891072785738001046658142159292840987246932570361763177111 00697959685571990760703692132893768983899447355448923170537863763707992085828 83810697459113749844946826641821898540561333219729436814792543369180840218727\n",
    "85547089484188742205547622768339682908724888475804853718102400460138994239190\n",
    "9876756259491.\n",
    "\n",
    "Knowing that Alice and Bob agreed to use RSA cryptosystem to communicate in secret, each\n",
    "message consist of a single letter which is encoded as: Espace = 00, A = 11, B = 12, · · · , Z =\n",
    "36, which message did Alice sent to Bob?"
   ]
  },
  {
   "cell_type": "code",
   "execution_count": 5,
   "id": "9ac1a26e",
   "metadata": {},
   "outputs": [
    {
     "data": {
      "text/plain": [
       "[1, -223, 7111]"
      ]
     },
     "execution_count": 5,
     "metadata": {},
     "output_type": "execute_result"
    }
   ],
   "source": [
    "def ExtendedEuclide2(a,b):\n",
    "    r0 = b\n",
    "    u1=1 \n",
    "    u2=0\n",
    "    v1=0\n",
    "    v2 =1\n",
    "    while r0 != 0:\n",
    "        q = a//b\n",
    "        r = a%b\n",
    "        u = u1-u2*q\n",
    "        v = v1-v2*q\n",
    "        a, b = r0, r\n",
    "        u1, u2 = u2, u\n",
    "        v1, v2 = v2, v\n",
    "        r0 = r\n",
    "    gcd = a\n",
    "    return [gcd, u1, v1]\n",
    "ExtendedEuclide2(17634,553)"
   ]
  },
  {
   "cell_type": "code",
   "execution_count": 6,
   "id": "54996ce3",
   "metadata": {},
   "outputs": [],
   "source": [
    "def Inver(n,a):\n",
    "    if ExtendedEuclide2(n,a)[0] != 1:\n",
    "        return \"{} has not an inverse in Z/({}Z)\".format(a,n)\n",
    "    else:\n",
    "        return ExtendedEuclide2(n,a)[2]%n"
   ]
  },
  {
   "cell_type": "code",
   "execution_count": 7,
   "id": "6c4337a6",
   "metadata": {},
   "outputs": [],
   "source": [
    "def RabiMiller(n,k):\n",
    "    if power_mod(n,1,2) == 0:\n",
    "        return \"Composite\"\n",
    "    for i in range(k):\n",
    "        b = random.randint(2,n-1)\n",
    "        if ExtendedEuclide2(b,n)[0] != 1:\n",
    "            return \"Composite\"\n",
    "        t = (n-1)//2\n",
    "        s = 1\n",
    "        while t%2 == 0:\n",
    "            s += 1\n",
    "            t = t//2\n",
    "        if power_mod(b,t,n) != 1:\n",
    "            C = True\n",
    "            for j in range(s):\n",
    "                if power_mod(b,t*(2**j),n) == n-1:\n",
    "                    C = False\n",
    "            if C:\n",
    "                return \"Composite\"\n",
    "    return \"Probably prime\""
   ]
  },
  {
   "cell_type": "code",
   "execution_count": 8,
   "id": "77dadbf6",
   "metadata": {},
   "outputs": [],
   "source": [
    "def IsPrime(n):\n",
    "    return RabiMiller(n,50) == \"Probably prime\""
   ]
  },
  {
   "cell_type": "code",
   "execution_count": 9,
   "id": "c1d7c94b",
   "metadata": {},
   "outputs": [],
   "source": [
    "def PrimeGen(n):\n",
    "    B = 2**((n-1)/2)\n",
    "    p = random.randint(ceil(B),floor(B*sqrt(2)))\n",
    "    while IsPrime(p) == False:\n",
    "        p = random.randint(ceil(B),floor(B*sqrt(2)))\n",
    "    return p"
   ]
  },
  {
   "cell_type": "code",
   "execution_count": 10,
   "id": "25cef16a",
   "metadata": {},
   "outputs": [],
   "source": [
    "def Phi(N,p,q):\n",
    "    return (p-1)*(q-1)"
   ]
  },
  {
   "cell_type": "code",
   "execution_count": 11,
   "id": "e49dc5e1",
   "metadata": {},
   "outputs": [],
   "source": [
    "def KeyGen(n):\n",
    "    p = PrimeGen(n)\n",
    "    q = PrimeGen(n)\n",
    "    while p == q:\n",
    "        q = PrimeGen(n)\n",
    "    N = p*q\n",
    "    b = Phi(N,p,q)\n",
    "    e = random.randint(2,b-2)\n",
    "    while ExtendedEuclide2(e, b)[0] != 1:\n",
    "        e = random.randint(2, b)\n",
    "    d = Inver(b,e)\n",
    "    return ((N, e), (p, q, b, d))\n",
    "\n",
    "# KeyGen(2048)"
   ]
  },
  {
   "cell_type": "code",
   "execution_count": 12,
   "id": "a281fefd",
   "metadata": {},
   "outputs": [],
   "source": [
    "def Encrypt(m,pk):\n",
    "    m_c = power_mod(m,pk[1],pk[0])\n",
    "    return m_c"
   ]
  },
  {
   "cell_type": "code",
   "execution_count": 13,
   "id": "e7bedf29",
   "metadata": {},
   "outputs": [],
   "source": [
    "def Decrypt(m_c,sk):\n",
    "    z = power_mod(m_c,sk[3],(sk[0]*sk[1]))\n",
    "    return z"
   ]
  },
  {
   "cell_type": "code",
   "execution_count": 14,
   "id": "600f0eaa",
   "metadata": {},
   "outputs": [
    {
     "data": {
      "text/plain": [
       "111213141516171819202122232425262728293031323334353610"
      ]
     },
     "execution_count": 14,
     "metadata": {},
     "output_type": "execute_result"
    }
   ],
   "source": [
    "key = KeyGen(2048)\n",
    "pk = key[0]\n",
    "sk = key[1]\n",
    "m = 111213141516171819202122232425262728293031323334353610\n",
    "m_c = Encrypt(m,pk)\n",
    "Decrypt(m_c,sk)"
   ]
  },
  {
   "cell_type": "code",
   "execution_count": 15,
   "id": "593e5203",
   "metadata": {},
   "outputs": [
    {
     "data": {
      "text/plain": [
       "1128111811121119241100241118113625001929110014192335001911241125001611281116111811211522192435"
      ]
     },
     "execution_count": 15,
     "metadata": {},
     "output_type": "execute_result"
    }
   ],
   "source": [
    "n = 23705664828679018910727857380010466581421592928409872469325703617631771110069795968557199076070369213289376898389944735544892317053786376370799208582883810697459113749844946826641821898540561333219729436814792543369180840218727855470894841887422055476227683396829087248884758048537181024004601389942391909876756259491\n",
    "a = 521\n",
    "p = 2**a - 1\n",
    "q = n//p\n",
    "e = 65537\n",
    "b = Phi(n,p,q)\n",
    "d = Inver(b, e)\n",
    "sk_c = (p,q, b,d)\n",
    "Y = 20211759043626737649849484242721820807367386205602051889392340800322880642353734048396708562040807995279484274610879853718107726223500679032373295601458267292420686387173388320151704861160697624321587449473976860322732152542219806060975723222729130520152145536473212127574510353953706961449174619764961296291397775292\n",
    "mes = Decrypt(Y,sk_c)\n",
    "mes"
   ]
  },
  {
   "cell_type": "code",
   "execution_count": 16,
   "id": "13947d04",
   "metadata": {},
   "outputs": [
    {
     "data": {
      "text/plain": [
       "'ARAHABAINA NAHAZO ISA DIMY IANAO FARAFAHAKELINY'"
      ]
     },
     "execution_count": 16,
     "metadata": {},
     "output_type": "execute_result"
    }
   ],
   "source": [
    "tab = \" ABCDEFGHIJKLMNOPQRSTUVWXYZ\"\n",
    "def Mge(y):\n",
    "    y = str(y)\n",
    "    m =''\n",
    "    for i in range (len(y)/2):\n",
    "        letter = y[2*i:2*i+2]\n",
    "        if letter == '00':\n",
    "            m = m+' '\n",
    "        else:\n",
    "            m = m+tab[int(letter)-10]\n",
    "    return m\n",
    "\n",
    "Mge(mes)"
   ]
  },
  {
   "cell_type": "markdown",
   "id": "33a7dd56",
   "metadata": {},
   "source": [
    "# Exercise 3\n",
    "\n",
    "Let us create our own public key and private key for RSA cryptosystem, such that the size of the two\n",
    "prime numbers must be greater than 1024 bits."
   ]
  },
  {
   "cell_type": "code",
   "execution_count": 17,
   "id": "caf45a6a",
   "metadata": {},
   "outputs": [
    {
     "data": {
      "text/plain": [
       "('Public key is: (23958244867100372568860843188932721199056553864010201965826800157423110683951105094961459150894868070338183867912238337678195957685855776422558968664660200584411298070500785531051746067119473083165773023132606292301063486314953300348095978895528122250642439081641251202241039607430367833553277077507146293813650250109620252062875434020060516922058580299259346412634907722485727464376733367682715601495129313368957474482999705561546520330347878184577937466731102456814375764060666537991233262040256219461809850300216388915901956374263111016594981564407084507294891040753736524773099117060650917040194376920125705186983,  2638765937816502027504319190565926501059753833263332004627302810095138388849295400131561892998754634454703209531605370544205113310891559574851227718766789792089747148943303404895980349663874996023871099079108407846366198670444207650634011044947330735770390018439610031438580163627831395991207644510392492875648191094784963643868393798400506906256875842553585764351535001060261683294591426234172851093879466023308580995801708713182114749788788408982268036036876484731862242730668758650504249779229198569661336779320001003532752721914410931477332552893000213047635503012608356376595556016715690076812338348388492817767) ',\n",
       " 'Secret key is: (160015494955543709548923240786839804794175703357693322625258907578035016893472371792452849345767697283309536914345730556115819714415242845196247127719073542200280493172684960968200413918952829524760714294845995285642768526554896675188725689578637455034880408700479647476218267000483293794045570528850879971913, 149724530575970594521470030120346365863615672632007235455696363331840699421583082558442617616904249175820148733859253329779854647825664505063753229300017941754850481994271644344489543003644634756596699859885970367262766314106170856499661732047025607078787989051616741629276523486985619060411562837099370113391, 23958244867100372568860843188932721199056553864010201965826800157423110683951105094961459150894868070338183867912238337678195957685855776422558968664660200584411298070500785531051746067119473083165773023132606292301063486314953300348095978895528122250642439081641251202241039607430367833553277077507146293813340510084088737758805040749153330751400788923269645854553952451575851748061677913331820134532457366909827788834794721675650845968106970834317937109712010972859244788893709932678543305117658755180452436145484423262996421533602043484906594142781421445181222643001640135667604326573182004185737243554175455101680, 17132253681908579294314441786271591605526022557071642411361589420662441988356994722246973278808515825024517147760808824241877203679840159539837380243418531636349545429913822220253512753628712827311160547404649051519760383960997403665737516514895530810090369312860206876132573592943074207243189577555942396164656368612836302909820766645914684693342014040372202070526098256312592837800505944070333618065870807129319954851680910588285902429848772656288189750525252935988908549905979334176758588788284228924361800637189634914518822943782021688479280177403286858471234405922955145452119373265855788160784411410294260797783)')"
      ]
     },
     "execution_count": 17,
     "metadata": {},
     "output_type": "execute_result"
    }
   ],
   "source": [
    "def KeyGenerate(n):\n",
    "    p = PrimeGen(n)\n",
    "    q = PrimeGen(n)\n",
    "    while p == q:\n",
    "        q = PrimeGen(n)\n",
    "    N = p*q\n",
    "    b = Phi(N,p,q)\n",
    "    e = random.randint(2,b-2)\n",
    "    while ExtendedEuclide2(e, b)[0] != 1:\n",
    "        e = random.randint(2, b)\n",
    "    d = Inver(b,e)\n",
    "    return \"Public key is: ({},  {}) \".format(N, e), \"Secret key is: ({}, {}, {}, {})\".format(p, q, b, d)\n",
    "\n",
    "KeyGenerate(2048)"
   ]
  },
  {
   "cell_type": "code",
   "execution_count": null,
   "id": "a77b66a0",
   "metadata": {},
   "outputs": [],
   "source": []
  }
 ],
 "metadata": {
  "kernelspec": {
   "display_name": "SageMath 9.2",
   "language": "sage",
   "name": "sagemath"
  },
  "language_info": {
   "codemirror_mode": {
    "name": "ipython",
    "version": 3
   },
   "file_extension": ".py",
   "mimetype": "text/x-python",
   "name": "python",
   "nbconvert_exporter": "python",
   "pygments_lexer": "ipython3",
   "version": "3.9.2"
  }
 },
 "nbformat": 4,
 "nbformat_minor": 5
}
